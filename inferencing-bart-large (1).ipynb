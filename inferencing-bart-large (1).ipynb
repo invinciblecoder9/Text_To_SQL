{
 "cells": [
  {
   "cell_type": "code",
   "execution_count": 1,
   "id": "93ab7362-33bf-4827-9e04-afd47ff526e3",
   "metadata": {},
   "outputs": [],
   "source": [
    "from transformers import AutoTokenizer, AutoModelForSeq2SeqLM\n",
    "import torch"
   ]
  },
  {
   "cell_type": "code",
   "execution_count": 2,
   "id": "257f293d-9fdb-496b-a67b-4b93420b1561",
   "metadata": {},
   "outputs": [],
   "source": [
    "def load_model(model_path):\n",
    "    tokenizer = AutoTokenizer.from_pretrained(model_path)\n",
    "    model = AutoModelForSeq2SeqLM.from_pretrained(model_path)\n",
    "    model.eval()\n",
    "    return tokenizer, model"
   ]
  },
  {
   "cell_type": "code",
   "execution_count": 3,
   "id": "7408e98a-6f8e-4508-a5b2-6710544c2121",
   "metadata": {},
   "outputs": [],
   "source": [
    "def generate_sql(model, tokenizer, sql_prompt, sql_context, max_length=128):\n",
    "    input_text = f\"sql_prompt: {sql_prompt} sql_context: {sql_context}\"\n",
    "    inputs = tokenizer(input_text, return_tensors=\"pt\", truncation=True, max_length=512)\n",
    "    with torch.no_grad():\n",
    "        output_tokens = model.generate(**inputs, max_new_tokens=max_length, min_new_tokens=5)\n",
    "    return tokenizer.decode(output_tokens[0], skip_special_tokens=True)"
   ]
  },
  {
   "cell_type": "code",
   "execution_count": 4,
   "id": "3e6d524d-7357-4269-b681-7c16184a36ca",
   "metadata": {},
   "outputs": [],
   "source": [
    "# Load the fine-tuned model\n",
    "tokenizer, model = load_model(\"nl2sql_epoch2\")  "
   ]
  },
  {
   "cell_type": "code",
   "execution_count": 5,
   "id": "c51f3e5f-4ab8-4f7b-84ef-808a528ffb6b",
   "metadata": {},
   "outputs": [],
   "source": [
    "# Load test dataset\n",
    "from datasets import load_dataset\n",
    "dataset = load_dataset(\"gretelai/synthetic_text_to_sql\")   "
   ]
  },
  {
   "cell_type": "code",
   "execution_count": 8,
   "id": "aab98a80-a502-4582-b8a6-97f550fac280",
   "metadata": {},
   "outputs": [
    {
     "name": "stdout",
     "output_type": "stream",
     "text": [
      "SQL Prompt: What is the average explainability score of creative AI applications in 'Europe' and 'North America' in the 'creative_ai' table?\n",
      "\n",
      "SQL Context: CREATE TABLE creative_ai (application_id INT, name TEXT, region TEXT, explainability_score FLOAT); INSERT INTO creative_ai (application_id, name, region, explainability_score) VALUES (1, 'ApplicationX', 'Europe', 0.87), (2, 'ApplicationY', 'North America', 0.91), (3, 'ApplicationZ', 'Europe', 0.84), (4, 'ApplicationAA', 'North America', 0.93), (5, 'ApplicationAB', 'Europe', 0.89);\n",
      "\n",
      "Correct SQL: SELECT AVG(explainability_score) FROM creative_ai WHERE region IN ('Europe', 'North America');\n",
      "\n",
      "Generated SQL: SELECT AVG(explainability_score) FROM creative_ai WHERE region IN ('Europe', 'North America');\n"
     ]
    }
   ],
   "source": [
    "index = 0\n",
    "test_sample = dataset[\"test\"][index] \n",
    "\n",
    "sql_prompt = test_sample[\"sql_prompt\"]\n",
    "sql_context = test_sample[\"sql_context\"]\n",
    "correct_sql = test_sample[\"sql\"]\n",
    "predicted_sql = generate_sql(model, tokenizer, sql_prompt, sql_context)\n",
    "print(f\"SQL Prompt: {sql_prompt}\\n\")\n",
    "print(f\"SQL Context: {sql_context}\\n\")\n",
    "print(f\"Correct SQL: {correct_sql}\\n\")\n",
    "print(\"Generated SQL:\", predicted_sql)"
   ]
  },
  {
   "cell_type": "code",
   "execution_count": 9,
   "id": "a7b0194e-3a98-4e7d-9b2e-564dffb1592d",
   "metadata": {},
   "outputs": [
    {
     "name": "stdout",
     "output_type": "stream",
     "text": [
      "SQL Prompt: Delete all records of rural infrastructure projects in Indonesia that have a completion date before 2010.\n",
      "\n",
      "SQL Context: CREATE TABLE rural_infrastructure (id INT, project_name TEXT, sector TEXT, country TEXT, completion_date DATE); INSERT INTO rural_infrastructure (id, project_name, sector, country, completion_date) VALUES (1, 'Water Supply Expansion', 'Infrastructure', 'Indonesia', '2008-05-15'), (2, 'Rural Electrification', 'Infrastructure', 'Indonesia', '2012-08-28'), (3, 'Transportation Improvement', 'Infrastructure', 'Indonesia', '2009-12-31');\n",
      "\n",
      "Correct SQL: DELETE FROM rural_infrastructure WHERE country = 'Indonesia' AND completion_date < '2010-01-01';\n",
      "\n",
      "Generated SQL: DELETE FROM rural_infrastructure WHERE country = 'Indonesia' AND completion_date < '2010-01-01';\n"
     ]
    }
   ],
   "source": [
    "index = 1\n",
    "test_sample = dataset[\"test\"][index] \n",
    "\n",
    "sql_prompt = test_sample[\"sql_prompt\"]\n",
    "sql_context = test_sample[\"sql_context\"]\n",
    "correct_sql = test_sample[\"sql\"]\n",
    "predicted_sql = generate_sql(model, tokenizer, sql_prompt, sql_context)\n",
    "print(f\"SQL Prompt: {sql_prompt}\\n\")\n",
    "print(f\"SQL Context: {sql_context}\\n\")\n",
    "print(f\"Correct SQL: {correct_sql}\\n\")\n",
    "print(\"Generated SQL:\", predicted_sql)"
   ]
  },
  {
   "cell_type": "code",
   "execution_count": 11,
   "id": "72f0a83c-a6bc-4f67-a464-32929830a2b9",
   "metadata": {},
   "outputs": [
    {
     "name": "stdout",
     "output_type": "stream",
     "text": [
      "SQL Prompt: Show the sum of investments by year and industry\n",
      "\n",
      "SQL Context: CREATE TABLE investments (id INT, investment_year INT, industry VARCHAR(255), investment_amount DECIMAL(10,2)); INSERT INTO investments (id, investment_year, industry, investment_amount) VALUES (1, 2020, 'Tech', 50000.00), (2, 2019, 'Biotech', 20000.00), (3, 2020, 'Tech', 75000.00);\n",
      "\n",
      "Correct SQL: SELECT investment_year, industry, SUM(investment_amount) as total_investments FROM investments GROUP BY investment_year, industry;\n",
      "\n",
      "Generated SQL: SELECT investment_year, industry, SUM(investment_amount) as total_investment FROM investments GROUP BY investment_ year, industry;\n"
     ]
    }
   ],
   "source": [
    "index = 100\n",
    "test_sample = dataset[\"test\"][index] \n",
    "\n",
    "sql_prompt = test_sample[\"sql_prompt\"]\n",
    "sql_context = test_sample[\"sql_context\"]\n",
    "correct_sql = test_sample[\"sql\"]\n",
    "predicted_sql = generate_sql(model, tokenizer, sql_prompt, sql_context)\n",
    "print(f\"SQL Prompt: {sql_prompt}\\n\")\n",
    "print(f\"SQL Context: {sql_context}\\n\")\n",
    "print(f\"Correct SQL: {correct_sql}\\n\")\n",
    "print(\"Generated SQL:\", predicted_sql)"
   ]
  },
  {
   "cell_type": "code",
   "execution_count": 13,
   "id": "bcb35551-e977-4d62-9cf3-4dbb7f3f905f",
   "metadata": {},
   "outputs": [
    {
     "name": "stdout",
     "output_type": "stream",
     "text": [
      "SQL Prompt: What is the total number of customer complaints regarding mobile and broadband services by region?\n",
      "\n",
      "SQL Context: CREATE TABLE complaints (complaint_id INT, complaint_type VARCHAR(255), region VARCHAR(255)); INSERT INTO complaints (complaint_id, complaint_type, region) VALUES (1, 'Mobile', 'North'), (2, 'Broadband', 'South'), (3, 'Mobile', 'East'), (4, 'Broadband', 'West'), (5, 'Mobile', 'North'), (6, 'Broadband', 'South'), (7, 'Mobile', 'East'), (8, 'Broadband', 'West');\n",
      "\n",
      "Correct SQL: SELECT region, COUNT(*) AS total_complaints FROM complaints WHERE complaint_type IN ('Mobile', 'Broadband') GROUP BY region;\n",
      "\n",
      "Generated SQL: SELECT region, COUNT(*) as total_complaints FROM complaints WHERE complaint_type IN ('Mobile', 'Broadband') GROUP BY region;\n"
     ]
    }
   ],
   "source": [
    "index = 150\n",
    "test_sample = dataset[\"test\"][index] \n",
    "\n",
    "sql_prompt = test_sample[\"sql_prompt\"]\n",
    "sql_context = test_sample[\"sql_context\"]\n",
    "correct_sql = test_sample[\"sql\"]\n",
    "predicted_sql = generate_sql(model, tokenizer, sql_prompt, sql_context)\n",
    "print(f\"SQL Prompt: {sql_prompt}\\n\")\n",
    "print(f\"SQL Context: {sql_context}\\n\")\n",
    "print(f\"Correct SQL: {correct_sql}\\n\")\n",
    "print(\"Generated SQL:\", predicted_sql)"
   ]
  },
  {
   "cell_type": "code",
   "execution_count": 14,
   "id": "f7c745fa-309b-4e21-a86a-dc2cf77336ff",
   "metadata": {},
   "outputs": [
    {
     "name": "stdout",
     "output_type": "stream",
     "text": [
      "SQL Prompt: What is the average severity of vulnerabilities in the 'Malware' category?\n",
      "\n",
      "SQL Context: CREATE TABLE vulnerabilities (id INT, name TEXT, category TEXT, severity TEXT, date_discovered DATE); INSERT INTO vulnerabilities (id, name, category, severity, date_discovered) VALUES (1, 'Remote Code Execution', 'Malware', 'Critical', '2022-01-01');\n",
      "\n",
      "Correct SQL: SELECT AVG(severity = 'Critical') + AVG(severity = 'High') * 0.75 + AVG(severity = 'Medium') * 0.5 + AVG(severity = 'Low') * 0.25 as average FROM vulnerabilities WHERE category = 'Malware';\n",
      "\n",
      "Generated SQL: SELECT AVG(severity) FROM vulnerabilities WHERE category = 'Malware';\n"
     ]
    }
   ],
   "source": [
    "index = 171\n",
    "test_sample = dataset[\"test\"][index] \n",
    "\n",
    "sql_prompt = test_sample[\"sql_prompt\"]\n",
    "sql_context = test_sample[\"sql_context\"]\n",
    "correct_sql = test_sample[\"sql\"]\n",
    "predicted_sql = generate_sql(model, tokenizer, sql_prompt, sql_context)\n",
    "print(f\"SQL Prompt: {sql_prompt}\\n\")\n",
    "print(f\"SQL Context: {sql_context}\\n\")\n",
    "print(f\"Correct SQL: {correct_sql}\\n\")\n",
    "print(\"Generated SQL:\", predicted_sql)"
   ]
  },
  {
   "cell_type": "code",
   "execution_count": 15,
   "id": "f8a3ab9b-97ca-4884-aea4-84d7528309c5",
   "metadata": {},
   "outputs": [
    {
     "name": "stdout",
     "output_type": "stream",
     "text": [
      "SQL Prompt: How many research grants were awarded to the Computer Science department in the year 2020?\n",
      "\n",
      "SQL Context: CREATE TABLE grant (id INT, department VARCHAR(50), amount INT, grant_date DATE); INSERT INTO grant (id, department, amount, grant_date) VALUES (1, 'Computer Science', 50000, '2020-01-01'), (2, 'Computer Science', 75000, '2020-04-15'), (3, 'Mechanical Engineering', 60000, '2019-12-31');\n",
      "\n",
      "Correct SQL: SELECT COUNT(*) FROM grant WHERE department = 'Computer Science' AND YEAR(grant_date) = 2020;\n",
      "\n",
      "Generated SQL: SELECT COUNT(*) FROM grant WHERE department = 'Computer Science' AND YEAR(grant_date) = 2020;\n"
     ]
    }
   ],
   "source": [
    "index = 212\n",
    "test_sample = dataset[\"test\"][index] \n",
    "\n",
    "sql_prompt = test_sample[\"sql_prompt\"]\n",
    "sql_context = test_sample[\"sql_context\"]\n",
    "correct_sql = test_sample[\"sql\"]\n",
    "predicted_sql = generate_sql(model, tokenizer, sql_prompt, sql_context)\n",
    "print(f\"SQL Prompt: {sql_prompt}\\n\")\n",
    "print(f\"SQL Context: {sql_context}\\n\")\n",
    "print(f\"Correct SQL: {correct_sql}\\n\")\n",
    "print(\"Generated SQL:\", predicted_sql)"
   ]
  },
  {
   "cell_type": "code",
   "execution_count": 16,
   "id": "3e8456f8-1de8-41a1-9d77-ef7f5ffa09b9",
   "metadata": {},
   "outputs": [
    {
     "name": "stdout",
     "output_type": "stream",
     "text": [
      "SQL Prompt: Which cybersecurity policies in the 'cybersecurity_policies' table were last updated on a specific date?\n",
      "\n",
      "SQL Context: CREATE TABLE cybersecurity_policies (id INT PRIMARY KEY, policy_name TEXT, policy_text TEXT, last_updated DATE);\n",
      "\n",
      "Correct SQL: SELECT policy_name, last_updated FROM cybersecurity_policies WHERE last_updated = '2022-01-01';\n",
      "\n",
      "Generated SQL: SELECT policy_name FROM cybersecurity_policies WHERE last_updated = '2022-01-01';\n"
     ]
    }
   ],
   "source": [
    "index = 243\n",
    "test_sample = dataset[\"test\"][index] \n",
    "\n",
    "sql_prompt = test_sample[\"sql_prompt\"]\n",
    "sql_context = test_sample[\"sql_context\"]\n",
    "correct_sql = test_sample[\"sql\"]\n",
    "predicted_sql = generate_sql(model, tokenizer, sql_prompt, sql_context)\n",
    "print(f\"SQL Prompt: {sql_prompt}\\n\")\n",
    "print(f\"SQL Context: {sql_context}\\n\")\n",
    "print(f\"Correct SQL: {correct_sql}\\n\")\n",
    "print(\"Generated SQL:\", predicted_sql)"
   ]
  },
  {
   "cell_type": "code",
   "execution_count": 17,
   "id": "4aedb3cd-02ff-4d74-972b-143e054f47b4",
   "metadata": {},
   "outputs": [
    {
     "name": "stdout",
     "output_type": "stream",
     "text": [
      "SQL Prompt: What was the average funding for 'Climate Change' initiatives provided by the US in 2021?\n",
      "\n",
      "SQL Context: CREATE TABLE USFunding (Funder VARCHAR(50), Sector VARCHAR(50), FundingAmount NUMERIC(15,2), Year INT); INSERT INTO USFunding (Funder, Sector, FundingAmount, Year) VALUES ('US', 'Climate Change', 450000, 2021), ('US', 'Climate Change', 500000, 2021), ('US', 'Climate Change', 350000, 2021);\n",
      "\n",
      "Correct SQL: SELECT AVG(FundingAmount) FROM USFunding WHERE Sector = 'Climate Change' AND Year = 2021 AND Funder = 'US';\n",
      "\n",
      "Generated SQL: SELECT AVG(FundingAmount) FROM USFunding WHERE Funder = 'US' AND Sector = 'Climate Change' AND Year = 2021;\n"
     ]
    }
   ],
   "source": [
    "index = 301\n",
    "test_sample = dataset[\"test\"][index] \n",
    "\n",
    "sql_prompt = test_sample[\"sql_prompt\"]\n",
    "sql_context = test_sample[\"sql_context\"]\n",
    "correct_sql = test_sample[\"sql\"]\n",
    "predicted_sql = generate_sql(model, tokenizer, sql_prompt, sql_context)\n",
    "print(f\"SQL Prompt: {sql_prompt}\\n\")\n",
    "print(f\"SQL Context: {sql_context}\\n\")\n",
    "print(f\"Correct SQL: {correct_sql}\\n\")\n",
    "print(\"Generated SQL:\", predicted_sql)"
   ]
  },
  {
   "cell_type": "code",
   "execution_count": 19,
   "id": "016dc89e-a6d3-4315-8737-263c63297678",
   "metadata": {},
   "outputs": [
    {
     "name": "stdout",
     "output_type": "stream",
     "text": [
      "SQL Prompt: List the policy numbers, claim amounts, and claim dates for policies that have more than two claims and the total claim amount exceeds $5000\n",
      "\n",
      "SQL Context: CREATE TABLE policies (policy_number INT);CREATE TABLE claims (claim_id INT, policy_number INT, claim_amount DECIMAL(10,2), claim_date DATE);\n",
      "\n",
      "Correct SQL: SELECT p.policy_number, c.claim_amount, c.claim_date FROM policies p INNER JOIN claims c ON p.policy_number = c.policy_number GROUP BY p.policy_number, c.claim_amount, c.claim_date HAVING COUNT(c.claim_id) > 2 AND SUM(c.claim_amount) > 5000;\n",
      "\n",
      "Generated SQL: SELECT policies.policy_number, claims.claim_amount, claim_date FROM policies INNER JOIN claims ON policy_number IN (SELECT policies.* FROM claims GROUP BY policies.* HAVING COUNT(claim_id) > 2) AND claims.total_claims > 5000;\n"
     ]
    }
   ],
   "source": [
    "index = 334\n",
    "test_sample = dataset[\"test\"][index] \n",
    "\n",
    "sql_prompt = test_sample[\"sql_prompt\"]\n",
    "sql_context = test_sample[\"sql_context\"]\n",
    "correct_sql = test_sample[\"sql\"]\n",
    "predicted_sql = generate_sql(model, tokenizer, sql_prompt, sql_context)\n",
    "print(f\"SQL Prompt: {sql_prompt}\\n\")\n",
    "print(f\"SQL Context: {sql_context}\\n\")\n",
    "print(f\"Correct SQL: {correct_sql}\\n\")\n",
    "print(\"Generated SQL:\", predicted_sql)"
   ]
  },
  {
   "cell_type": "code",
   "execution_count": 21,
   "id": "0a415dd4-850c-4d32-b00a-521664f1ccaf",
   "metadata": {},
   "outputs": [
    {
     "name": "stdout",
     "output_type": "stream",
     "text": [
      "SQL Prompt: What is the total number of vehicles sold in 'sales_data' view that have a speed greater than or equal to 80 mph?\n",
      "\n",
      "SQL Context: CREATE VIEW sales_data AS SELECT id, vehicle_type, avg_speed, sales FROM vehicle_sales WHERE sales > 20000;\n",
      "\n",
      "Correct SQL: SELECT SUM(sales) FROM sales_data WHERE avg_speed >= 80;\n",
      "\n",
      "Generated SQL: SELECT SUM(sales) FROM sales_data WHERE avg_speed >= 80;\n"
     ]
    }
   ],
   "source": [
    "index = 410\n",
    "test_sample = dataset[\"test\"][index] \n",
    "\n",
    "sql_prompt = test_sample[\"sql_prompt\"]\n",
    "sql_context = test_sample[\"sql_context\"]\n",
    "correct_sql = test_sample[\"sql\"]\n",
    "predicted_sql = generate_sql(model, tokenizer, sql_prompt, sql_context)\n",
    "print(f\"SQL Prompt: {sql_prompt}\\n\")\n",
    "print(f\"SQL Context: {sql_context}\\n\")\n",
    "print(f\"Correct SQL: {correct_sql}\\n\")\n",
    "print(\"Generated SQL:\", predicted_sql)"
   ]
  },
  {
   "cell_type": "code",
   "execution_count": 22,
   "id": "6c22a970-abb1-4739-9734-e1eddb478510",
   "metadata": {},
   "outputs": [
    {
     "name": "stdout",
     "output_type": "stream",
     "text": [
      "SQL Prompt: What is the combined landfill capacity for 'City A' and 'City B'?\n",
      "\n",
      "SQL Context: CREATE TABLE landfill_capacity (city VARCHAR(255), capacity INT); INSERT INTO landfill_capacity (city, capacity) VALUES ('City A', 500000), ('City B', 600000);\n",
      "\n",
      "Correct SQL: SELECT SUM(capacity) FROM (SELECT capacity FROM landfill_capacity WHERE city = 'City A' UNION ALL SELECT capacity FROM landfill_capacity WHERE city = 'City B') AS combined_capacity;\n",
      "\n",
      "Generated SQL: SELECT SUM(capacity) FROM landfill_capacity WHERE city IN ('City A', 'City B');\n"
     ]
    }
   ],
   "source": [
    "index = 420\n",
    "test_sample = dataset[\"test\"][index] \n",
    "\n",
    "sql_prompt = test_sample[\"sql_prompt\"]\n",
    "sql_context = test_sample[\"sql_context\"]\n",
    "correct_sql = test_sample[\"sql\"]\n",
    "predicted_sql = generate_sql(model, tokenizer, sql_prompt, sql_context)\n",
    "print(f\"SQL Prompt: {sql_prompt}\\n\")\n",
    "print(f\"SQL Context: {sql_context}\\n\")\n",
    "print(f\"Correct SQL: {correct_sql}\\n\")\n",
    "print(\"Generated SQL:\", predicted_sql)"
   ]
  },
  {
   "cell_type": "code",
   "execution_count": 24,
   "id": "817fe56b-caf0-4f7a-9ccf-1a0dcdfd01a7",
   "metadata": {},
   "outputs": [
    {
     "name": "stdout",
     "output_type": "stream",
     "text": [
      "SQL Prompt: How many vessels have not had an inspection in the past year?\n",
      "\n",
      "SQL Context: CREATE TABLE safety_records(id INT, vessel_name VARCHAR(50), inspection_date DATE); CREATE TABLE vessels(id INT, name VARCHAR(50), country VARCHAR(50)); INSERT INTO vessels(id, name, country) VALUES (1, 'Vessel A', 'Philippines'), (2, 'Vessel B', 'Philippines'); INSERT INTO safety_records(id, vessel_name, inspection_date) VALUES (1, 'Vessel A', '2022-01-01');\n",
      "\n",
      "Correct SQL: SELECT COUNT(*) FROM vessels WHERE name NOT IN (SELECT vessel_name FROM safety_records WHERE inspection_date BETWEEN DATE_SUB(NOW(), INTERVAL 1 YEAR) AND NOW());\n",
      "\n",
      "Generated SQL: SELECT COUNT(*) FROM vessels WHERE id NOT IN (SELECT vessel_id FROM safety_records WHERE inspection_date >= DATE_SUB(CURRENT_DATE, INTERVAL 1 YEAR));\n"
     ]
    }
   ],
   "source": [
    "index = 520\n",
    "test_sample = dataset[\"test\"][index] \n",
    "\n",
    "sql_prompt = test_sample[\"sql_prompt\"]\n",
    "sql_context = test_sample[\"sql_context\"]\n",
    "correct_sql = test_sample[\"sql\"]\n",
    "predicted_sql = generate_sql(model, tokenizer, sql_prompt, sql_context)\n",
    "print(f\"SQL Prompt: {sql_prompt}\\n\")\n",
    "print(f\"SQL Context: {sql_context}\\n\")\n",
    "print(f\"Correct SQL: {correct_sql}\\n\")\n",
    "print(\"Generated SQL:\", predicted_sql)"
   ]
  },
  {
   "cell_type": "code",
   "execution_count": null,
   "id": "fd95b44c-b8b4-4524-9b0e-3cb3efd89ef5",
   "metadata": {},
   "outputs": [],
   "source": []
  }
 ],
 "metadata": {
  "kernelspec": {
   "display_name": "Python 3",
   "language": "python",
   "name": "python3"
  },
  "language_info": {
   "codemirror_mode": {
    "name": "ipython",
    "version": 3
   },
   "file_extension": ".py",
   "mimetype": "text/x-python",
   "name": "python",
   "nbconvert_exporter": "python",
   "pygments_lexer": "ipython3",
   "version": "3.10.10"
  }
 },
 "nbformat": 4,
 "nbformat_minor": 5
}
